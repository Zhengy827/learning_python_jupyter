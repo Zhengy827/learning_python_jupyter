{
 "cells": [
  {
   "cell_type": "markdown",
   "metadata": {},
   "source": [
    "## Introduction"
   ]
  },
  {
   "cell_type": "markdown",
   "metadata": {},
   "source": [
    "The motivating setup for encryption systems is:"
   ]
  },
  {
   "cell_type": "markdown",
   "metadata": {},
   "source": [
    "<img src=\"Crypto.png\">"
   ]
  },
  {
   "cell_type": "markdown",
   "metadata": {},
   "source": [
    "<img src=\"Crypto2.png\">"
   ]
  },
  {
   "cell_type": "markdown",
   "metadata": {},
   "source": [
    "We need two functions, Encrypt(m) -> c and Decrypt(c) -> m, that have two properties."
   ]
  },
  {
   "cell_type": "markdown",
   "metadata": {},
   "source": [
    "Correctness: for any possible message m, Decrypt(Encrypt(m)) = m."
   ]
  },
  {
   "cell_type": "markdown",
   "metadata": {},
   "source": [
    "Security: suppose encrypted message c = Encrypt(m). Then, it is \"hard\" to learn anything useful about m from c."
   ]
  },
  {
   "cell_type": "markdown",
   "metadata": {},
   "source": [
    "## Shared Key Cryptosystem"
   ]
  },
  {
   "cell_type": "markdown",
   "metadata": {},
   "source": [
    "We also need the technique to be public without compromising the security property. The only secret should be the individual keys."
   ]
  },
  {
   "cell_type": "markdown",
   "metadata": {},
   "source": [
    "Thus, we add key k to the decrypt and encrypt functions as parameters."
   ]
  },
  {
   "cell_type": "markdown",
   "metadata": {},
   "source": [
    "This technique is easy to pull off if we can meet up in real life and exchange secret keys. However, this is not so simple when we have to exchange keys through an insecure channel."
   ]
  },
  {
   "cell_type": "markdown",
   "metadata": {},
   "source": [
    "### Diffie-Hellman Key Exchange"
   ]
  },
  {
   "cell_type": "markdown",
   "metadata": {},
   "source": [
    "Suppose we have the situation in the picture above. Let Alice select a secret value a and let Bob select a secret value b. Agree on a \"primitive root\" g and a sufficiently large prime p. Then, exchange the values $m_{a} = g^{a}$  (mod p) and $m_{b} = g^{b}$  (mod p). Then, each person uses their secret value by exponentiating, that is, $k = (m_{a})^{b}$ (mod p) $ = (m_{b})^{a}$ (mod p). This generates the key $g^{ab}$ (mod p). "
   ]
  },
  {
   "cell_type": "markdown",
   "metadata": {},
   "source": [
    "A primitive root g of a prime p is a number where for any number m in {1,2,...,p-1}, there is some number n in {1,2,...,p-1} such that $g^{n} = m$ (mod p)."
   ]
  },
  {
   "cell_type": "markdown",
   "metadata": {},
   "source": [
    "This means it is possible to generate any of the numbers in {1,2,...,p-1} with some secret value. "
   ]
  },
  {
   "cell_type": "markdown",
   "metadata": {},
   "source": [
    "The eavesdropping inteceptor cannot actually get the key, but both exchange parties manage to exchange the same key satisfying the correctness and security properties."
   ]
  },
  {
   "cell_type": "markdown",
   "metadata": {},
   "source": [
    "The only things exchanged through the network are {g, p, $m_{a}$, $m_{b}$}. Without adding a or b to that collection of information, there is no way (at the moment there are only exponential time algorithms) to derive the key besides brute force (which requires a large quantum computer) because $m_{a}$ effectively hides a and $m_{b}$ effectively hides b."
   ]
  },
  {
   "cell_type": "markdown",
   "metadata": {},
   "source": [
    "This cryptosystem relies on the \"discrete logarithm problem\" which is the problem that states: given {g, p, $m_{a}$}, find a."
   ]
  },
  {
   "cell_type": "markdown",
   "metadata": {},
   "source": [
    "This is an example of a function that is easy to compute, but the inverse is hard to compute."
   ]
  },
  {
   "cell_type": "markdown",
   "metadata": {},
   "source": [
    "### RSA Encryption"
   ]
  },
  {
   "cell_type": "markdown",
   "metadata": {},
   "source": [
    "RSA encryption makes use of the idea of signatures."
   ]
  },
  {
   "cell_type": "markdown",
   "metadata": {},
   "source": [
    "Bob generates a public key and a private key. Then, gives out the public key for others to encrypt their message with. When Bob receives the encrypted message, he can decrypt it with his private key. Bob can \"sign\" his messages with his private key which lets people verify with the public key that Bob actually sent the message."
   ]
  },
  {
   "cell_type": "markdown",
   "metadata": {},
   "source": [
    "In RSA, the encrypt(verify) function is given by $E_{e}(M) = M^{e}$ (mod n) with the public key (e,n). The decrypt(sign) function is given by $D_{d}(C) = C^{d}$ (mod n) with the private key d. "
   ]
  },
  {
   "cell_type": "markdown",
   "metadata": {},
   "source": [
    "The correctness property is $D_{d}(E_{e}(M)) = M$. We can show this by $D_{d}(E_{e}(M)) = (E_{e}(M))^{d}$ (mod n) $= (M^{e}$ (mod n) $)^{d}$ (mod n) $ = M^{ed}$ (mod n) $ = M$ if e * d = 1. We need to choose e and d to have this property. "
   ]
  },
  {
   "cell_type": "markdown",
   "metadata": {},
   "source": [
    "$M^{ed}$ (mod n) $ = M \\iff M^{ed-1}$ (mod n) $ = 1$"
   ]
  },
  {
   "cell_type": "markdown",
   "metadata": {},
   "source": [
    "We need to develop some mathematical tools to generate these keys."
   ]
  },
  {
   "cell_type": "markdown",
   "metadata": {},
   "source": [
    "Fermat's Little Theorem: $a^{p-1} = 1$ (mod p) for a and p coprime."
   ]
  },
  {
   "cell_type": "markdown",
   "metadata": {},
   "source": [
    "Euler's Totient Function: $\\varphi(n)$ is defined as the number of integers which are coprime to n between 1 and n."
   ]
  },
  {
   "cell_type": "markdown",
   "metadata": {},
   "source": [
    "For example: $\\varphi(12) = 4$ since {1, 5, 7, 11} are all coprime to 12. Obvious corollary: for any prime p, $\\varphi(p) = p-1$"
   ]
  },
  {
   "cell_type": "markdown",
   "metadata": {},
   "source": [
    "Euler's Theorem: for a, n coprime, $a^{\\varphi(n)} = 1$ (mod n)."
   ]
  },
  {
   "cell_type": "markdown",
   "metadata": {},
   "source": [
    "$M^{k * \\varphi(n) + 1}$ (mod n) $ = M \\iff M^{k * \\varphi(n)}$ (mod n) $ = 1$.\n",
    "So the way we can choose the public key e and private key d is via $e * d = 1$ (mod $\\varphi(n)$)"
   ]
  },
  {
   "cell_type": "markdown",
   "metadata": {},
   "source": [
    "Assumption: n = p * q where p and q are two prime numbers. Then, $\\varphi(n) = (p-1)(q-1)$. We will keep the generators p and q secret."
   ]
  },
  {
   "cell_type": "markdown",
   "metadata": {},
   "source": [
    "This gives use a easy formula for generating keys: $e * d = 1$ (mod $(p-1)(q-1)$) $\\to$ $d = e^{-1}$ (mod $(p-1)(q-1)$)"
   ]
  },
  {
   "cell_type": "markdown",
   "metadata": {},
   "source": [
    "$E_{e}(M) = M^{e}$ (mod n) is easy to compute using binary exponentiation algorithm."
   ]
  },
  {
   "cell_type": "markdown",
   "metadata": {},
   "source": [
    "Given {$E_{e}(M)$, e, n}, it is hard to compute M since we can't factor p and q easily from n in order to generate $(p-1)(q-1)$ to derive d from $d = e^{-1}$ (mod $(p-1)(q-1)$). All modern solutions are equivalent in time complexity to just brute force factoring."
   ]
  },
  {
   "cell_type": "markdown",
   "metadata": {},
   "source": [
    "However, it is easy(fast) to invert/decrypt given we know our private key d using the $D_{d}(C)$ function."
   ]
  },
  {
   "cell_type": "markdown",
   "metadata": {},
   "source": [
    "### Summary of one version of RSA key generation algorithm"
   ]
  },
  {
   "cell_type": "markdown",
   "metadata": {},
   "source": [
    "Pick two really big prime numbers: p and q"
   ]
  },
  {
   "cell_type": "markdown",
   "metadata": {},
   "source": [
    "Generate n = p * q"
   ]
  },
  {
   "cell_type": "markdown",
   "metadata": {},
   "source": [
    "Pick public key exponent e"
   ]
  },
  {
   "cell_type": "markdown",
   "metadata": {},
   "source": [
    "Compute private key d"
   ]
  },
  {
   "cell_type": "markdown",
   "metadata": {},
   "source": [
    "Handout public key: (e,n)"
   ]
  },
  {
   "cell_type": "markdown",
   "metadata": {},
   "source": [
    "Store private key in a safe location. Then, discard p and q and never let anyone know them."
   ]
  },
  {
   "cell_type": "markdown",
   "metadata": {},
   "source": [
    "## Example Python Implementation"
   ]
  },
  {
   "cell_type": "markdown",
   "metadata": {},
   "source": [
    "Euclid's Algorithm for checking greatest common divisor. This allows us to check for coprime numbers by checking if gcd(a,b) == 1."
   ]
  },
  {
   "cell_type": "code",
   "execution_count": 16,
   "metadata": {},
   "outputs": [],
   "source": [
    "def gcd(a, b):\n",
    "    if a < b:\n",
    "        a,b = b,a\n",
    "    if b == 0:\n",
    "        return a\n",
    "    else:\n",
    "        return gcd(b, a%b)"
   ]
  },
  {
   "cell_type": "markdown",
   "metadata": {},
   "source": [
    "Make an iterative implementation of this: (left as an exercise)"
   ]
  },
  {
   "cell_type": "code",
   "execution_count": null,
   "metadata": {},
   "outputs": [],
   "source": []
  },
  {
   "cell_type": "markdown",
   "metadata": {},
   "source": [
    "Coprime Check"
   ]
  },
  {
   "cell_type": "code",
   "execution_count": null,
   "metadata": {},
   "outputs": [],
   "source": [
    "def is_coprime(a, b):\n",
    "    if gcd(a,b) == 1:\n",
    "        return True\n",
    "    return False"
   ]
  },
  {
   "cell_type": "markdown",
   "metadata": {},
   "source": [
    "Check if a number is prime"
   ]
  },
  {
   "cell_type": "code",
   "execution_count": 25,
   "metadata": {},
   "outputs": [],
   "source": [
    "def is_prime(p):\n",
    "    if p <= 1:\n",
    "        return False\n",
    "    elif p <= 3:\n",
    "        return True\n",
    "    elif p % 2 == 0 or p % 3 == 0:\n",
    "        return False\n",
    "    i = 5\n",
    "    while i * i <= p:\n",
    "        if p % i == 0 or p % (i+2) == 0:\n",
    "            return False\n",
    "        i += 6\n",
    "    return True"
   ]
  },
  {
   "cell_type": "markdown",
   "metadata": {},
   "source": [
    "Finding modular multiplicative inverse:   (g, x, y - (a // b) * x)"
   ]
  },
  {
   "cell_type": "code",
   "execution_count": 32,
   "metadata": {},
   "outputs": [],
   "source": [
    "def inverse(a, n):\n",
    "    for i in range(n):\n",
    "        if (a*i) % n == 1:\n",
    "            return i\n",
    "    return 0"
   ]
  },
  {
   "cell_type": "markdown",
   "metadata": {},
   "source": [
    "Generate keys"
   ]
  },
  {
   "cell_type": "code",
   "execution_count": null,
   "metadata": {},
   "outputs": [],
   "source": [
    "def gen_keys(p, q):\n",
    "    n = p * q\n",
    "    totient = (p-1)*(q-1)\n",
    "    e = generate_e(totient)\n",
    "    d = inverse(e, totient)\n",
    "    public = (e, n)\n",
    "    private = (d, n)\n",
    "    return public, private\n",
    "\n",
    "def generate_e(t):\n",
    "    from random import randint\n",
    "    e = randint(1, t)\n",
    "    while not is_coprime(e, t):              # only coprime numbers have multiplicative inverses\n",
    "        e = randint(1, t)"
   ]
  },
  {
   "cell_type": "markdown",
   "metadata": {},
   "source": [
    "Encrypt"
   ]
  },
  {
   "cell_type": "code",
   "execution_count": 31,
   "metadata": {},
   "outputs": [],
   "source": [
    "def encrypt(public, message):      # keys are represented by pairs (exponent, modulus)\n",
    "    e = public[0]\n",
    "    n = public[1]\n",
    "    c = pow(m, e, n)               # pow(base, exponent, modulus)\n",
    "    return c"
   ]
  },
  {
   "cell_type": "markdown",
   "metadata": {},
   "source": [
    "Decrypt"
   ]
  },
  {
   "cell_type": "code",
   "execution_count": 30,
   "metadata": {},
   "outputs": [],
   "source": [
    "def decrypt(private, encrypted):\n",
    "    d = private[0]\n",
    "    n = private[1]\n",
    "    decrypted = pow(encrypted, d, n)               # pow(base, exponent, modulus)\n",
    "    return decrypted"
   ]
  }
 ],
 "metadata": {
  "kernelspec": {
   "display_name": "Python 3",
   "language": "python",
   "name": "python3"
  },
  "language_info": {
   "codemirror_mode": {
    "name": "ipython",
    "version": 3
   },
   "file_extension": ".py",
   "mimetype": "text/x-python",
   "name": "python",
   "nbconvert_exporter": "python",
   "pygments_lexer": "ipython3",
   "version": "3.6.5"
  }
 },
 "nbformat": 4,
 "nbformat_minor": 2
}
