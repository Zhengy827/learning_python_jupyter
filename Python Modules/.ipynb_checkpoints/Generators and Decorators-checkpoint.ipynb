{
 "cells": [
  {
   "cell_type": "markdown",
   "metadata": {},
   "source": [
    "## Decorators"
   ]
  },
  {
   "cell_type": "markdown",
   "metadata": {},
   "source": [
    "Decorators is a bit of syntactic sugar that has the purpose of reducing duplicate code. It is a nicer way of implementing higher order functions that are specifically designed to add some wrapping behavior to any function."
   ]
  },
  {
   "cell_type": "code",
   "execution_count": 9,
   "metadata": {},
   "outputs": [
    {
     "name": "stdout",
     "output_type": "stream",
     "text": [
      "Hi!\n",
      "String\n",
      "Bye!\n"
     ]
    }
   ],
   "source": [
    "def greeter(function):\n",
    "    def wrapper(*args, **kwargs):\n",
    "        print(\"Hi!\")\n",
    "        print(function(*args, **kwargs))\n",
    "        print(\"Bye!\")\n",
    "    return wrapper\n",
    "\n",
    "@greeter\n",
    "def add(x, y):\n",
    "    return x + y\n",
    "\n",
    "add(\"Str\", \"ing\")"
   ]
  },
  {
   "cell_type": "code",
   "execution_count": 11,
   "metadata": {},
   "outputs": [],
   "source": [
    "from time import time\n",
    "def timer(f):\n",
    "    def g(*args, **kwargs):\n",
    "        start = time()\n",
    "        ret = f(*args, **kwargs)\n",
    "        end = time()\n",
    "        print(end-start)\n",
    "        return ret\n",
    "    return g"
   ]
  },
  {
   "cell_type": "code",
   "execution_count": 18,
   "metadata": {},
   "outputs": [
    {
     "name": "stdout",
     "output_type": "stream",
     "text": [
      "0.05867409706115723\n",
      "[1, 2, 3, 4, 5, 6, 7, 9, 34]\n"
     ]
    }
   ],
   "source": [
    "@timer\n",
    "def bogosort(lst):\n",
    "    import random\n",
    "    while not is_sorted(lst):\n",
    "        random.shuffle(lst)\n",
    "    return lst\n",
    "\n",
    "def is_sorted(a):\n",
    "    n = len(a)\n",
    "    for i in range(0, n-1):\n",
    "        if (a[i] > a[i+1] ):\n",
    "            return False\n",
    "    return True\n",
    "\n",
    "print(bogosort([3,1,2,4,5,9,6,7,34]))"
   ]
  },
  {
   "cell_type": "markdown",
   "metadata": {},
   "source": [
    "## Generators"
   ]
  },
  {
   "cell_type": "markdown",
   "metadata": {},
   "source": [
    "Generators are a way of sequencing things in such a way that priority/control is given back to the caller until needed again."
   ]
  },
  {
   "cell_type": "code",
   "execution_count": 22,
   "metadata": {},
   "outputs": [],
   "source": [
    "from time import sleep\n",
    "def do_stuff():\n",
    "    ret = []\n",
    "    for i in range(10):\n",
    "        sleep(.5)                       # sleep represents some time extensive computation\n",
    "        ret.append(i)\n",
    "    return ret"
   ]
  },
  {
   "cell_type": "code",
   "execution_count": 23,
   "metadata": {},
   "outputs": [],
   "source": [
    "def do_stuff_():\n",
    "    for i in range(10):\n",
    "        sleep(.5)\n",
    "        yield i"
   ]
  },
  {
   "cell_type": "code",
   "execution_count": 24,
   "metadata": {},
   "outputs": [
    {
     "name": "stdout",
     "output_type": "stream",
     "text": [
      "0\n",
      "1\n",
      "2\n",
      "3\n",
      "4\n",
      "5\n",
      "6\n",
      "7\n",
      "8\n",
      "9\n"
     ]
    }
   ],
   "source": [
    "for i in do_stuff():\n",
    "    print(i)"
   ]
  },
  {
   "cell_type": "code",
   "execution_count": 25,
   "metadata": {},
   "outputs": [
    {
     "name": "stdout",
     "output_type": "stream",
     "text": [
      "0\n",
      "1\n",
      "2\n",
      "3\n",
      "4\n",
      "5\n",
      "6\n",
      "7\n",
      "8\n",
      "9\n"
     ]
    }
   ],
   "source": [
    "for i in do_stuff_():\n",
    "    print(i)"
   ]
  },
  {
   "cell_type": "markdown",
   "metadata": {},
   "source": [
    "This is annoying design to use."
   ]
  },
  {
   "cell_type": "code",
   "execution_count": null,
   "metadata": {},
   "outputs": [],
   "source": [
    "class SomeIdiot:\n",
    "    def do_this_first():\n",
    "        pass\n",
    "    def do_this_second():\n",
    "        pass\n",
    "    def do_this_last()\n",
    "        pass"
   ]
  },
  {
   "cell_type": "markdown",
   "metadata": {},
   "source": [
    "We can instead interleave this code using a generator to sequence them."
   ]
  },
  {
   "cell_type": "code",
   "execution_count": null,
   "metadata": {},
   "outputs": [],
   "source": [
    "class Smart:\n",
    "    def do_this():\n",
    "        _first()\n",
    "        yield\n",
    "        _second()\n",
    "        yield\n",
    "        _last()\n",
    "    \n",
    "    def _first():\n",
    "        pass\n",
    "    def _second():\n",
    "        pass\n",
    "    def _last()\n",
    "        pass"
   ]
  },
  {
   "cell_type": "markdown",
   "metadata": {},
   "source": [
    "## Context Manager"
   ]
  },
  {
   "cell_type": "markdown",
   "metadata": {},
   "source": [
    "Combining the above ideas together, we get the idea of a context manager which is a way to enforce that some specific setup and teardown actions occur. The common use scenario is as a way of managing resources so we don't run out of memory by not tearing down processes that we are done with."
   ]
  },
  {
   "cell_type": "code",
   "execution_count": 32,
   "metadata": {},
   "outputs": [],
   "source": [
    "class File:\n",
    "    def __init__(self, filename, mode):\n",
    "        self.filename = filename\n",
    "        self.mode = mode\n",
    "\n",
    "    def __enter__(self):\n",
    "        self.open_file = open(self.filename, self.mode)\n",
    "        return self.open_file\n",
    "\n",
    "    def __exit__(self, *args):\n",
    "        self.open_file.close()\n",
    "        \n",
    "with File('stuff.txt', 'w') as f:\n",
    "    f.write('blah')"
   ]
  },
  {
   "cell_type": "markdown",
   "metadata": {},
   "source": [
    "Abstracting this process gives us the context manager"
   ]
  },
  {
   "cell_type": "code",
   "execution_count": 89,
   "metadata": {},
   "outputs": [],
   "source": [
    "class contextmanager:\n",
    "    def __init__(self, generator):\n",
    "        self.generator = generator\n",
    "\n",
    "    def __call__(self, *args, **kwargs):\n",
    "        self.args, self.kwargs = args, kwargs\n",
    "        return self\n",
    "    \n",
    "    def __enter__(self):\n",
    "        self.gen_instance = self.generator(*self.args, **self.kwargs)\n",
    "        return next(self.gen_instance)\n",
    "    \n",
    "    def __exit__(self, *args, **kwargs):\n",
    "        next(self.gen_instance, None)\n",
    "\n",
    "        \n",
    "def file(filename, mode):\n",
    "    f = open(filename, mode)\n",
    "    yield f\n",
    "    f.close()\n",
    "\n",
    "file = contextmanager(file)\n",
    "\n",
    "with file('stuff.txt', 'w') as f:\n",
    "    f.write('blah')"
   ]
  },
  {
   "cell_type": "markdown",
   "metadata": {},
   "source": [
    "Python already has this as a library that we can use"
   ]
  },
  {
   "cell_type": "code",
   "execution_count": 55,
   "metadata": {},
   "outputs": [],
   "source": [
    "from contextlib import contextmanager\n",
    "\n",
    "@contextmanager\n",
    "def file(filename, mode):\n",
    "    f = open(filename, mode)\n",
    "    yield f\n",
    "    f.close()\n",
    "\n",
    "with file('stuff.txt', 'w') as f:\n",
    "    f.write('blah')"
   ]
  }
 ],
 "metadata": {
  "kernelspec": {
   "display_name": "Python 3",
   "language": "python",
   "name": "python3"
  },
  "language_info": {
   "codemirror_mode": {
    "name": "ipython",
    "version": 3
   },
   "file_extension": ".py",
   "mimetype": "text/x-python",
   "name": "python",
   "nbconvert_exporter": "python",
   "pygments_lexer": "ipython3",
   "version": "3.6.5"
  }
 },
 "nbformat": 4,
 "nbformat_minor": 2
}
