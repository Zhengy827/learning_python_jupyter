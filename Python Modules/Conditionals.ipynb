{
 "cells": [
  {
   "cell_type": "code",
   "execution_count": 27,
   "metadata": {},
   "outputs": [
    {
     "name": "stdout",
     "output_type": "stream",
     "text": [
      "ABCD\n",
      "AD\n"
     ]
    }
   ],
   "source": [
    "def f(x):\n",
    "    print(\"A\",end=\"\")\n",
    "    if x == 0:\n",
    "        print(\"B\",end=\"\")\n",
    "        print(\"C\",end=\"\")\n",
    "    print(\"D\")\n",
    "\n",
    "f(0)\n",
    "f(True)"
   ]
  },
  {
   "cell_type": "code",
   "execution_count": 6,
   "metadata": {},
   "outputs": [
    {
     "name": "stdout",
     "output_type": "stream",
     "text": [
      "1\n",
      "3\n"
     ]
    }
   ],
   "source": [
    "def abs_(x):\n",
    "    if x < 0:\n",
    "        x = -x\n",
    "    return x\n",
    "\n",
    "print(abs_(-1))\n",
    "print(abs_(3))"
   ]
  },
  {
   "cell_type": "code",
   "execution_count": 12,
   "metadata": {},
   "outputs": [
    {
     "name": "stdout",
     "output_type": "stream",
     "text": [
      "1\n",
      "3\n"
     ]
    }
   ],
   "source": [
    "def abs_bool(x):\n",
    "    return (x<0)*(-x) + (x>=0)*(x)\n",
    "\n",
    "print(abs_bool(-1))\n",
    "print(abs_bool(3))"
   ]
  },
  {
   "cell_type": "code",
   "execution_count": 18,
   "metadata": {},
   "outputs": [
    {
     "name": "stdout",
     "output_type": "stream",
     "text": [
      "1\n",
      "3\n"
     ]
    }
   ],
   "source": [
    "def abs_else(x):\n",
    "    if x < 0:\n",
    "        sign = -1\n",
    "    else:\n",
    "        sign = 1\n",
    "    return sign * x\n",
    "\n",
    "print(abs_else(-1))\n",
    "print(abs_else(3))"
   ]
  },
  {
   "cell_type": "code",
   "execution_count": 26,
   "metadata": {},
   "outputs": [
    {
     "name": "stdout",
     "output_type": "stream",
     "text": [
      "0\n",
      "1\n",
      "2\n"
     ]
    }
   ],
   "source": [
    "def number_of_roots(a,b,c):\n",
    "    discriminate = b**2 - 4*a*c\n",
    "    if discriminate > 0:\n",
    "        return 2\n",
    "    elif discriminate == 0:\n",
    "        return 1\n",
    "    else:\n",
    "        return 0\n",
    "    \n",
    "print(number_of_roots(3,4,5))\n",
    "print(number_of_roots(4,4,1))\n",
    "print(number_of_roots(1,0,-1))"
   ]
  },
  {
   "cell_type": "code",
   "execution_count": null,
   "metadata": {},
   "outputs": [],
   "source": []
  }
 ],
 "metadata": {
  "kernelspec": {
   "display_name": "Python 3",
   "language": "python",
   "name": "python3"
  },
  "language_info": {
   "codemirror_mode": {
    "name": "ipython",
    "version": 3
   },
   "file_extension": ".py",
   "mimetype": "text/x-python",
   "name": "python",
   "nbconvert_exporter": "python",
   "pygments_lexer": "ipython3",
   "version": "3.6.5"
  }
 },
 "nbformat": 4,
 "nbformat_minor": 2
}
