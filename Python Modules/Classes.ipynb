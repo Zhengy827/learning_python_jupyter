{
 "cells": [
  {
   "cell_type": "markdown",
   "metadata": {},
   "source": [
    "# Classes"
   ]
  },
  {
   "cell_type": "markdown",
   "metadata": {},
   "source": [
    "Objects are a ubiquitous concept in modern programming. Objects are data structures defined by the properties and methods(functions for classes) associated with it. User-defined data structures are usually called classes which are just categories of objects. Classes are an implementation of the idea of abstract data types. Abstract, in computer science, just means that we are creating something that can be used without knowing the implementation details of the structure."
   ]
  },
  {
   "cell_type": "markdown",
   "metadata": {},
   "source": [
    "Classes capture the idea of a contract, that is, a promise to the user that the inputs and outputs of the methods and the overarching structure corresponds to the general idea that the class purports to imitate."
   ]
  },
  {
   "cell_type": "code",
   "execution_count": 9,
   "metadata": {},
   "outputs": [],
   "source": [
    "class Dog:\n",
    "    def bark(self):\n",
    "        print(\"Woof!\")"
   ]
  },
  {
   "cell_type": "code",
   "execution_count": 10,
   "metadata": {},
   "outputs": [
    {
     "name": "stdout",
     "output_type": "stream",
     "text": [
      "Woof!\n"
     ]
    }
   ],
   "source": [
    "scooby = Dog()\n",
    "scooby.bark()"
   ]
  },
  {
   "cell_type": "code",
   "execution_count": 12,
   "metadata": {},
   "outputs": [
    {
     "name": "stdout",
     "output_type": "stream",
     "text": [
      "<class '__main__.Dog'>\n",
      "True\n",
      "True\n"
     ]
    }
   ],
   "source": [
    "print(type(scooby))\n",
    "print(type(scooby) == Dog)\n",
    "print(isinstance(scooby, Dog))"
   ]
  },
  {
   "cell_type": "markdown",
   "metadata": {},
   "source": [
    "Constructor method: it allows the user to supply information about a specific instance of an object usually called fields, attributes, or instance variables"
   ]
  },
  {
   "cell_type": "code",
   "execution_count": 14,
   "metadata": {},
   "outputs": [],
   "source": [
    "class Dog:\n",
    "    def __init__(self, color, breed, gender):\n",
    "        self.color = color\n",
    "        self.breed = breed\n",
    "        self.gender = gender"
   ]
  },
  {
   "cell_type": "code",
   "execution_count": 15,
   "metadata": {},
   "outputs": [],
   "source": [
    "bruno = Dog(\"White\", \"Pomeranian\", \"Male\")"
   ]
  },
  {
   "cell_type": "markdown",
   "metadata": {},
   "source": [
    "These fields can be called using the selector operator \".\""
   ]
  },
  {
   "cell_type": "code",
   "execution_count": 18,
   "metadata": {},
   "outputs": [
    {
     "name": "stdout",
     "output_type": "stream",
     "text": [
      "White Pomeranian Male\n"
     ]
    }
   ],
   "source": [
    "print(bruno.color, bruno.breed, bruno.gender)"
   ]
  },
  {
   "cell_type": "markdown",
   "metadata": {},
   "source": [
    "Aside: What is \"self\"?'"
   ]
  },
  {
   "cell_type": "markdown",
   "metadata": {},
   "source": [
    "Self is the conventional Python way of referring to an arbitrary instance of the class which allows you to manipulate the fields and methods of a theoretical instance of the class. Functions defined with self parameter are able to refer to and modify the properties of the object calling the function. Self isn't a keyword."
   ]
  },
  {
   "cell_type": "code",
   "execution_count": 34,
   "metadata": {},
   "outputs": [
    {
     "name": "stdout",
     "output_type": "stream",
     "text": [
      "Dog(White,Pomeranian,Male)\n",
      "Dog(White,Pomeranian,Female)\n",
      "Dog(Silver,Pomeranian,Female)\n",
      "Dog(Silver,Pomeranian,Female)\n"
     ]
    }
   ],
   "source": [
    "class Dog:\n",
    "    def __init__(self, color, breed, gender):\n",
    "        self.color = color\n",
    "        self.breed = breed\n",
    "        self.gender = gender\n",
    "    def __repr__(self):\n",
    "        return f\"Dog({self.color},{self.breed},{self.gender})\"\n",
    "    def gender_swap(self, gender):\n",
    "        self.gender = gender\n",
    "    def color_swap(notself, color):\n",
    "        notself.color = color\n",
    "    def print_dog(other):\n",
    "        print(other)\n",
    "        \n",
    "bruno = Dog(\"White\", \"Pomeranian\", \"Male\")\n",
    "print(bruno)\n",
    "bruno.gender_swap(\"Female\")\n",
    "print(bruno)\n",
    "bruno.color_swap(\"Silver\")\n",
    "print(bruno)\n",
    "bruno.print_dog()"
   ]
  },
  {
   "cell_type": "markdown",
   "metadata": {},
   "source": [
    "What are these methods with double underscore?"
   ]
  },
  {
   "cell_type": "markdown",
   "metadata": {},
   "source": [
    "Double underscore methods or \"dunder\" methods are special class functions with predefined names and usually predefined functionality. They are methods that don't have to be called directly and usually represent some builtin functionality that Python does under the hood. However, we can override them to provide customized functionality."
   ]
  },
  {
   "cell_type": "markdown",
   "metadata": {},
   "source": [
    "Examples include: init, repr, add, sub, mul, floordiv, truediv, pow, and, call, mod, and, or, str, eq, hash"
   ]
  },
  {
   "cell_type": "code",
   "execution_count": 43,
   "metadata": {},
   "outputs": [
    {
     "name": "stdout",
     "output_type": "stream",
     "text": [
      "(2, 3, 4)\n",
      "(2, 3, 4)\n",
      "3 6\n"
     ]
    }
   ],
   "source": [
    "class Vector:\n",
    "    def __init__(self, tup):\n",
    "        self.entries = tup\n",
    "    def __repr__(self):\n",
    "        return str(self.entries)\n",
    "    def __add__(self, other):\n",
    "        it = zip(self.entries, other.entries)\n",
    "        added = map(lambda x: x[0]+x[1], it)\n",
    "        return Vector(tuple(added))\n",
    "    def __call__(self):\n",
    "        return sum(self.entries)\n",
    "    \n",
    "v = Vector((1,2,3))\n",
    "u = Vector((1,1,1))\n",
    "\n",
    "print(u+v)\n",
    "print(u.__add__(v))\n",
    "print(u(), v())"
   ]
  },
  {
   "cell_type": "markdown",
   "metadata": {},
   "source": [
    "Inheritance: \"is a\" relationship"
   ]
  },
  {
   "cell_type": "code",
   "execution_count": 51,
   "metadata": {},
   "outputs": [],
   "source": [
    "class Duck:\n",
    "    def __init__(self, color, weight):\n",
    "        self.color = color\n",
    "        self.weight = weight\n",
    "\n",
    "class Mallard(Duck):\n",
    "    def __init__(self, color, weight, gender):\n",
    "        super().__init__(color, weight)\n",
    "        self.gender = gender\n",
    "    \n",
    "    def quack(self):\n",
    "        print(\"quack\")\n",
    "    \n",
    "    def __repr__(self):\n",
    "        return f\"Duck(Mallard)\""
   ]
  },
  {
   "cell_type": "markdown",
   "metadata": {},
   "source": [
    "isinstance vs type functions for inherited classes"
   ]
  },
  {
   "cell_type": "code",
   "execution_count": 53,
   "metadata": {},
   "outputs": [
    {
     "name": "stdout",
     "output_type": "stream",
     "text": [
      "True\n",
      "False\n",
      "False\n",
      "True\n",
      "------------\n",
      "True\n",
      "False\n",
      "True\n",
      "True\n"
     ]
    }
   ],
   "source": [
    "a = Duck(\"blue\", 10)\n",
    "b = Mallard(\"blue\", 10, \"male\")\n",
    "\n",
    "print(type(a) == Duck)\n",
    "print(type(a) == Mallard)\n",
    "print(type(b) == Duck)\n",
    "print(type(b) == Mallard)\n",
    "print(\"------------\")\n",
    "print(isinstance(a, Duck))\n",
    "print(isinstance(a, Mallard))\n",
    "print(isinstance(b, Duck))\n",
    "print(isinstance(b, Mallard))       # b is a Mallard so it is a duck"
   ]
  },
  {
   "cell_type": "code",
   "execution_count": null,
   "metadata": {},
   "outputs": [],
   "source": []
  }
 ],
 "metadata": {
  "kernelspec": {
   "display_name": "Python 3",
   "language": "python",
   "name": "python3"
  },
  "language_info": {
   "codemirror_mode": {
    "name": "ipython",
    "version": 3
   },
   "file_extension": ".py",
   "mimetype": "text/x-python",
   "name": "python",
   "nbconvert_exporter": "python",
   "pygments_lexer": "ipython3",
   "version": "3.6.5"
  }
 },
 "nbformat": 4,
 "nbformat_minor": 2
}
