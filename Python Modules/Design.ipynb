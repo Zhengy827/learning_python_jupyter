{
 "cells": [
  {
   "cell_type": "markdown",
   "metadata": {},
   "source": [
    "# Programming Patterns"
   ]
  },
  {
   "cell_type": "markdown",
   "metadata": {},
   "source": [
    "Find the index of the nth object from a collection C that satisfies a property P"
   ]
  },
  {
   "cell_type": "code",
   "execution_count": 26,
   "metadata": {},
   "outputs": [
    {
     "name": "stdout",
     "output_type": "stream",
     "text": [
      "1\n"
     ]
    }
   ],
   "source": [
    "def nth_object(n, C, P):\n",
    "    found = 0\n",
    "    guess = -1\n",
    "    while found < n:\n",
    "        guess += 1\n",
    "        if P(C, guess):\n",
    "            found += 1\n",
    "    return guess\n",
    "\n",
    "def isEven(it, x):\n",
    "    if it[x] & 1 == 0:\n",
    "        return True\n",
    "    else:\n",
    "        return False\n",
    "    \n",
    "print(nth_object(1, [1,2,3,4,5,6,7,8], isEven))"
   ]
  },
  {
   "cell_type": "markdown",
   "metadata": {},
   "source": [
    "Check whether every object in a collection C satisfy a property P"
   ]
  },
  {
   "cell_type": "code",
   "execution_count": 32,
   "metadata": {},
   "outputs": [
    {
     "name": "stdout",
     "output_type": "stream",
     "text": [
      "False\n",
      "True\n",
      "True\n"
     ]
    }
   ],
   "source": [
    "def forall(C, P):\n",
    "    for obj in C:\n",
    "        if P(obj) == False:\n",
    "            return False\n",
    "    return True\n",
    "\n",
    "def isOdd(x):\n",
    "    if x & 1:\n",
    "        return True\n",
    "    else:\n",
    "        return False\n",
    "\n",
    "print(forall([1,2,3,4,5], isOdd))\n",
    "print(forall([], isOdd))\n",
    "print(forall(filter(lambda x: x % 2 == 1, range(100)), isOdd))"
   ]
  },
  {
   "cell_type": "markdown",
   "metadata": {},
   "source": [
    "Count the number of objects with property P in a collection C"
   ]
  },
  {
   "cell_type": "code",
   "execution_count": 33,
   "metadata": {},
   "outputs": [
    {
     "name": "stdout",
     "output_type": "stream",
     "text": [
      "50\n"
     ]
    }
   ],
   "source": [
    "def count(C, P):\n",
    "    count = 0\n",
    "    for obj in C:\n",
    "        if P(obj):\n",
    "            count += 1\n",
    "    return count\n",
    "\n",
    "print(count(range(100), isOdd))"
   ]
  },
  {
   "cell_type": "code",
   "execution_count": null,
   "metadata": {},
   "outputs": [],
   "source": []
  }
 ],
 "metadata": {
  "kernelspec": {
   "display_name": "Python 3",
   "language": "python",
   "name": "python3"
  },
  "language_info": {
   "codemirror_mode": {
    "name": "ipython",
    "version": 3
   },
   "file_extension": ".py",
   "mimetype": "text/x-python",
   "name": "python",
   "nbconvert_exporter": "python",
   "pygments_lexer": "ipython3",
   "version": "3.6.5"
  }
 },
 "nbformat": 4,
 "nbformat_minor": 2
}
