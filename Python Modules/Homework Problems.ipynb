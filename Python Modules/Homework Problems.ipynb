{
 "cells": [
  {
   "cell_type": "markdown",
   "metadata": {},
   "source": [
    "Define flatten(lst) so that it takes a list which might have lists inside and returns a list with no nested lists containing all non-list elements from the original list."
   ]
  },
  {
   "cell_type": "code",
   "execution_count": 1,
   "metadata": {},
   "outputs": [],
   "source": [
    "def flatten(lst):\n",
    "    pass"
   ]
  },
  {
   "cell_type": "code",
   "execution_count": 7,
   "metadata": {},
   "outputs": [
    {
     "ename": "NameError",
     "evalue": "name 'testflatten' is not defined",
     "output_type": "error",
     "traceback": [
      "\u001b[0;31m---------------------------------------------------------------------------\u001b[0m",
      "\u001b[0;31mNameError\u001b[0m                                 Traceback (most recent call last)",
      "\u001b[0;32m<ipython-input-7-9cb410d9e362>\u001b[0m in \u001b[0;36m<module>\u001b[0;34m()\u001b[0m\n\u001b[1;32m      6\u001b[0m     \u001b[0;32massert\u001b[0m\u001b[0;34m(\u001b[0m\u001b[0mflatten\u001b[0m\u001b[0;34m(\u001b[0m\u001b[0;34m[\u001b[0m\u001b[0;34m[\u001b[0m\u001b[0;34m]\u001b[0m\u001b[0;34m]\u001b[0m\u001b[0;34m)\u001b[0m \u001b[0;34m==\u001b[0m \u001b[0;34m[\u001b[0m\u001b[0;34m]\u001b[0m\u001b[0;34m)\u001b[0m\u001b[0;34m\u001b[0m\u001b[0m\n\u001b[1;32m      7\u001b[0m \u001b[0;34m\u001b[0m\u001b[0m\n\u001b[0;32m----> 8\u001b[0;31m \u001b[0mtestflatten\u001b[0m\u001b[0;34m(\u001b[0m\u001b[0;34m)\u001b[0m\u001b[0;34m\u001b[0m\u001b[0m\n\u001b[0m",
      "\u001b[0;31mNameError\u001b[0m: name 'testflatten' is not defined"
     ]
    }
   ],
   "source": [
    "def test_flatten():\n",
    "    assert(flatten([1,[2]]) == [1,2])\n",
    "    assert(flatten([1,2,[3,[4,5],6],7]) == [1,2,3,4,5,6,7])\n",
    "    assert(flatten(['wow', [2,[[]]], [True]]) == ['wow', 2, True])\n",
    "    assert(flatten([]) == [])\n",
    "    assert(flatten([[]]) == [])\n",
    "\n",
    "testflatten()"
   ]
  },
  {
   "cell_type": "markdown",
   "metadata": {},
   "source": [
    "Write a recursive function power_series(n, k) that generates $1^{k} + 2^{k} + ... + n^{k}$"
   ]
  },
  {
   "cell_type": "code",
   "execution_count": 12,
   "metadata": {},
   "outputs": [],
   "source": [
    "def power_series(n, k):\n",
    "    pass"
   ]
  },
  {
   "cell_type": "code",
   "execution_count": 11,
   "metadata": {},
   "outputs": [],
   "source": [
    "def test_power():\n",
    "    assert(power_series(124, 1) == 7750)\n",
    "    assert(power_series(485, 2) == 38145735)\n",
    "    assert(power_series(65, 8) == 2463913665618977)\n",
    "\n",
    "test_power()"
   ]
  },
  {
   "cell_type": "markdown",
   "metadata": {},
   "source": [
    "Write a recursive functions that manipulates the predefined tree function"
   ]
  },
  {
   "cell_type": "code",
   "execution_count": 5,
   "metadata": {},
   "outputs": [
    {
     "name": "stdout",
     "output_type": "stream",
     "text": [
      "\n",
      "    __3__\n",
      "   /     \\\n",
      "  5       9\n",
      " / \\     /\n",
      "6   4   1\n",
      "\n",
      "\n",
      "\n",
      "    ____8__\n",
      "   /       \\\n",
      "  3         9\n",
      " / \\       / \\\n",
      "1   4     7   12\n",
      "     \\\n",
      "      5\n",
      "\n"
     ]
    }
   ],
   "source": [
    "from binarytree import Node as Tree\n",
    "\n",
    "# class Tree:\n",
    "#     def __init__(self, value, left=None, right=None): # value (use ints) and left/right are either trees or None\n",
    "#         self.value = value\n",
    "#         self.left = left\n",
    "#         self.right = right\n",
    "        \n",
    "t = Tree(3, Tree(5,Tree(6),Tree(4)), Tree(9,Tree(1)))\n",
    "ordered = Tree(8, Tree(3,Tree(1),Tree(4, None, Tree(5))), Tree(9,Tree(7),Tree(12)))\n",
    "print(t)\n",
    "print()\n",
    "print(ordered)"
   ]
  },
  {
   "cell_type": "markdown",
   "metadata": {},
   "source": [
    "Write a recursive function that inserts numbers into an ordered tree such that the numbers are ordered from left to right. Ignores duplicates."
   ]
  },
  {
   "cell_type": "code",
   "execution_count": null,
   "metadata": {},
   "outputs": [],
   "source": [
    "def insert(tree):\n",
    "    pass"
   ]
  },
  {
   "cell_type": "markdown",
   "metadata": {},
   "source": [
    "Write a function that recursively goes through the tree and adds each number to a list. Ex: the tree defined above t -> [6, 5, 4, 3, 1, 9]"
   ]
  },
  {
   "cell_type": "code",
   "execution_count": null,
   "metadata": {},
   "outputs": [],
   "source": [
    "def traverse(tree):\n",
    "    pass"
   ]
  },
  {
   "cell_type": "markdown",
   "metadata": {},
   "source": [
    "Write a function that applies an arbitrary function f to each element in the tree"
   ]
  },
  {
   "cell_type": "code",
   "execution_count": null,
   "metadata": {},
   "outputs": [],
   "source": [
    "def mapTree(tree, f):\n",
    "    pass"
   ]
  }
 ],
 "metadata": {
  "kernelspec": {
   "display_name": "Python 3",
   "language": "python",
   "name": "python3"
  },
  "language_info": {
   "codemirror_mode": {
    "name": "ipython",
    "version": 3
   },
   "file_extension": ".py",
   "mimetype": "text/x-python",
   "name": "python",
   "nbconvert_exporter": "python",
   "pygments_lexer": "ipython3",
   "version": "3.6.5"
  }
 },
 "nbformat": 4,
 "nbformat_minor": 2
}
