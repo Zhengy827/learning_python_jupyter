{
 "cells": [
  {
   "cell_type": "markdown",
   "metadata": {},
   "source": [
    "# Global vs. Local Variables"
   ]
  },
  {
   "cell_type": "markdown",
   "metadata": {},
   "source": [
    "Local Variable Priority: This is called \"function scope\""
   ]
  },
  {
   "cell_type": "code",
   "execution_count": 2,
   "metadata": {},
   "outputs": [
    {
     "name": "stdout",
     "output_type": "stream",
     "text": [
      "6\n"
     ]
    }
   ],
   "source": [
    "x = 5\n",
    "def f(y,z):\n",
    "    x = 3\n",
    "    result = x + y + z\n",
    "    return result\n",
    "\n",
    "print(f(1, 2))"
   ]
  },
  {
   "cell_type": "markdown",
   "metadata": {},
   "source": [
    "Unless the \"global\" keyword is used"
   ]
  },
  {
   "cell_type": "code",
   "execution_count": 5,
   "metadata": {},
   "outputs": [
    {
     "name": "stdout",
     "output_type": "stream",
     "text": [
      "8\n"
     ]
    }
   ],
   "source": [
    "x = 5\n",
    "def f(y,z):\n",
    "    global x\n",
    "    result = x + y + z\n",
    "    x = 3\n",
    "    return result\n",
    "\n",
    "print(f(1, 2))"
   ]
  },
  {
   "cell_type": "code",
   "execution_count": 6,
   "metadata": {},
   "outputs": [
    {
     "ename": "UnboundLocalError",
     "evalue": "local variable 'x' referenced before assignment",
     "output_type": "error",
     "traceback": [
      "\u001b[0;31m---------------------------------------------------------------------------\u001b[0m",
      "\u001b[0;31mUnboundLocalError\u001b[0m                         Traceback (most recent call last)",
      "\u001b[0;32m<ipython-input-6-30c019921ab9>\u001b[0m in \u001b[0;36m<module>\u001b[0;34m()\u001b[0m\n\u001b[1;32m      5\u001b[0m     \u001b[0;32mreturn\u001b[0m \u001b[0mresult\u001b[0m\u001b[0;34m\u001b[0m\u001b[0m\n\u001b[1;32m      6\u001b[0m \u001b[0;34m\u001b[0m\u001b[0m\n\u001b[0;32m----> 7\u001b[0;31m \u001b[0mprint\u001b[0m\u001b[0;34m(\u001b[0m\u001b[0mf\u001b[0m\u001b[0;34m(\u001b[0m\u001b[0;36m1\u001b[0m\u001b[0;34m,\u001b[0m \u001b[0;36m2\u001b[0m\u001b[0;34m)\u001b[0m\u001b[0;34m)\u001b[0m\u001b[0;34m\u001b[0m\u001b[0m\n\u001b[0m",
      "\u001b[0;32m<ipython-input-6-30c019921ab9>\u001b[0m in \u001b[0;36mf\u001b[0;34m(y, z)\u001b[0m\n\u001b[1;32m      1\u001b[0m \u001b[0mx\u001b[0m \u001b[0;34m=\u001b[0m \u001b[0;36m5\u001b[0m\u001b[0;34m\u001b[0m\u001b[0m\n\u001b[1;32m      2\u001b[0m \u001b[0;32mdef\u001b[0m \u001b[0mf\u001b[0m\u001b[0;34m(\u001b[0m\u001b[0my\u001b[0m\u001b[0;34m,\u001b[0m\u001b[0mz\u001b[0m\u001b[0;34m)\u001b[0m\u001b[0;34m:\u001b[0m\u001b[0;34m\u001b[0m\u001b[0m\n\u001b[0;32m----> 3\u001b[0;31m     \u001b[0mresult\u001b[0m \u001b[0;34m=\u001b[0m \u001b[0mx\u001b[0m \u001b[0;34m+\u001b[0m \u001b[0my\u001b[0m \u001b[0;34m+\u001b[0m \u001b[0mz\u001b[0m\u001b[0;34m\u001b[0m\u001b[0m\n\u001b[0m\u001b[1;32m      4\u001b[0m     \u001b[0mx\u001b[0m \u001b[0;34m=\u001b[0m \u001b[0;36m3\u001b[0m\u001b[0;34m\u001b[0m\u001b[0m\n\u001b[1;32m      5\u001b[0m     \u001b[0;32mreturn\u001b[0m \u001b[0mresult\u001b[0m\u001b[0;34m\u001b[0m\u001b[0m\n",
      "\u001b[0;31mUnboundLocalError\u001b[0m: local variable 'x' referenced before assignment"
     ]
    }
   ],
   "source": [
    "x = 5\n",
    "def f(y,z):\n",
    "    result = x + y + z\n",
    "    x = 3\n",
    "    return result\n",
    "\n",
    "print(f(1, 2))"
   ]
  },
  {
   "cell_type": "markdown",
   "metadata": {},
   "source": [
    "Global Variables are used automatically without error if there aren't any locals to use"
   ]
  },
  {
   "cell_type": "code",
   "execution_count": 3,
   "metadata": {},
   "outputs": [
    {
     "name": "stdout",
     "output_type": "stream",
     "text": [
      "8\n"
     ]
    }
   ],
   "source": [
    "x = 5\n",
    "def f(y,z):\n",
    "    result = x + y + z\n",
    "    return result\n",
    "\n",
    "print(f(1, 2))"
   ]
  },
  {
   "cell_type": "markdown",
   "metadata": {},
   "source": [
    "The return keyword ends a function immediately; \"return\" with nothing after is equivalent to \"return None\""
   ]
  },
  {
   "cell_type": "code",
   "execution_count": 9,
   "metadata": {},
   "outputs": [
    {
     "name": "stdout",
     "output_type": "stream",
     "text": [
      "Start\n"
     ]
    }
   ],
   "source": [
    "def f():\n",
    "    print(\"Start\")\n",
    "    return\n",
    "    print(\"End\")            # dead code\n",
    "\n",
    "f()"
   ]
  },
  {
   "cell_type": "markdown",
   "metadata": {},
   "source": [
    "A function with no return statement will perform all of the actions defined (side effects) and then returns None"
   ]
  },
  {
   "cell_type": "code",
   "execution_count": 10,
   "metadata": {},
   "outputs": [
    {
     "name": "stdout",
     "output_type": "stream",
     "text": [
      "None\n"
     ]
    }
   ],
   "source": [
    "def f(x):\n",
    "    result = x + 10\n",
    "\n",
    "print(f(10))"
   ]
  },
  {
   "cell_type": "markdown",
   "metadata": {},
   "source": [
    "Print is not the same as return"
   ]
  },
  {
   "cell_type": "code",
   "execution_count": 20,
   "metadata": {},
   "outputs": [
    {
     "name": "stdout",
     "output_type": "stream",
     "text": [
      "6\n",
      "----\n",
      "6\n",
      "None\n"
     ]
    }
   ],
   "source": [
    "def _double(x):\n",
    "    print(2 * x)\n",
    "\n",
    "_double(3)\n",
    "print(\"----\")\n",
    "print(_double(3))\n",
    "# print(2 * double(3)) # is broken"
   ]
  },
  {
   "cell_type": "code",
   "execution_count": 4,
   "metadata": {},
   "outputs": [
    {
     "name": "stdout",
     "output_type": "stream",
     "text": [
      "6\n",
      "----\n",
      "12\n"
     ]
    }
   ],
   "source": [
    "def double(x):\n",
    "    return 2 * x\n",
    "\n",
    "double(3)\n",
    "print(double(3))\n",
    "print(\"----\")\n",
    "print(2 * double(3))\n"
   ]
  },
  {
   "cell_type": "markdown",
   "metadata": {},
   "source": [
    "Composing functions"
   ]
  },
  {
   "cell_type": "code",
   "execution_count": 25,
   "metadata": {},
   "outputs": [
    {
     "name": "stdout",
     "output_type": "stream",
     "text": [
      "9\n"
     ]
    }
   ],
   "source": [
    "def f(x):\n",
    "    return 3 * x\n",
    "\n",
    "def g(x):\n",
    "    return x + 2\n",
    "\n",
    "def h(x):\n",
    "    return f(g(x))\n",
    "\n",
    "print(h(1))"
   ]
  },
  {
   "cell_type": "code",
   "execution_count": 23,
   "metadata": {},
   "outputs": [
    {
     "name": "stdout",
     "output_type": "stream",
     "text": [
      "500\n"
     ]
    }
   ],
   "source": [
    "def f(x):\n",
    "    return 10 * x\n",
    "\n",
    "def g(y,z):\n",
    "    return f(3*y) + z\n",
    "\n",
    "def h(a):\n",
    "    return f(g(a,f(a+1)))\n",
    "\n",
    "print(h(1))"
   ]
  },
  {
   "cell_type": "markdown",
   "metadata": {},
   "source": [
    "## Higher Order Functions"
   ]
  },
  {
   "cell_type": "markdown",
   "metadata": {},
   "source": [
    "In Python, functions are treated as \"first-class objects\" meaning they are treated just like numbers and strings. Functions are a way of abstracting from a procedure in order to adhere to the principle of being lazy. Programming with functions is all about finding ways to reduce code repetition."
   ]
  },
  {
   "cell_type": "markdown",
   "metadata": {},
   "source": [
    "How would we apply the function \"double\" twice?"
   ]
  },
  {
   "cell_type": "code",
   "execution_count": 6,
   "metadata": {},
   "outputs": [
    {
     "name": "stdout",
     "output_type": "stream",
     "text": [
      "12\n"
     ]
    }
   ],
   "source": [
    "print(double(double(3)))"
   ]
  },
  {
   "cell_type": "markdown",
   "metadata": {},
   "source": [
    "The first way to generalize our code would be to capture a specific composition of functions."
   ]
  },
  {
   "cell_type": "code",
   "execution_count": 7,
   "metadata": {},
   "outputs": [],
   "source": [
    "def double_twice(x):\n",
    "    return double(double(x))"
   ]
  },
  {
   "cell_type": "markdown",
   "metadata": {},
   "source": [
    "Since functions are just objects, we can pass them as arguments."
   ]
  },
  {
   "cell_type": "code",
   "execution_count": 10,
   "metadata": {},
   "outputs": [
    {
     "data": {
      "text/plain": [
       "12"
      ]
     },
     "execution_count": 10,
     "metadata": {},
     "output_type": "execute_result"
    }
   ],
   "source": [
    "def do_twice(function, x):\n",
    "    return function(function(x))\n",
    "\n",
    "do_twice(double, 3)"
   ]
  },
  {
   "cell_type": "markdown",
   "metadata": {},
   "source": [
    "We can generalize even more with an anonymous function."
   ]
  },
  {
   "cell_type": "code",
   "execution_count": 14,
   "metadata": {},
   "outputs": [
    {
     "data": {
      "text/plain": [
       "16"
      ]
     },
     "execution_count": 14,
     "metadata": {},
     "output_type": "execute_result"
    }
   ],
   "source": [
    "def do_twice_factory(function):\n",
    "    return lambda x: function(function(x))\n",
    "\n",
    "do_twice_factory(double)(4)"
   ]
  },
  {
   "cell_type": "markdown",
   "metadata": {},
   "source": [
    "Examples of higher order functions"
   ]
  },
  {
   "cell_type": "code",
   "execution_count": 23,
   "metadata": {},
   "outputs": [
    {
     "data": {
      "text/plain": [
       "3.1415920169700393"
      ]
     },
     "execution_count": 23,
     "metadata": {},
     "output_type": "execute_result"
    }
   ],
   "source": [
    "def summation(bot, top, f, nx):\n",
    "    summed = 0\n",
    "    x = bot\n",
    "    while x <= top:\n",
    "        summed += f(x)\n",
    "        x = nx(x)\n",
    "    return summed\n",
    "\n",
    "def sum_squares(bot, top):\n",
    "    return summation(bot, top, lambda x: x**2, lambda x: x+1)\n",
    "\n",
    "def approx_pi(bot, top):\n",
    "    return (8 * summation(bot, top, lambda x: 1.0/x**2, lambda x: x+2)) ** 0.5\n",
    "\n",
    "approx_pi(1, 1000000)"
   ]
  },
  {
   "cell_type": "code",
   "execution_count": 46,
   "metadata": {
    "scrolled": true
   },
   "outputs": [
    {
     "name": "stdout",
     "output_type": "stream",
     "text": [
      "0.4596972733957041\n",
      "10.000099999984968\n"
     ]
    }
   ],
   "source": [
    "import math\n",
    "def numeric_integration(f, a, b):\n",
    "    dx = 0.000001\n",
    "    return dx * summation(a, b, f, lambda x: x + dx)\n",
    "\n",
    "def derivative(f):\n",
    "    dx = 0.0001\n",
    "    return lambda x: (f(x+dx)-f(x))/dx\n",
    "\n",
    "print(numeric_integration(lambda x: math.sin(x), 0, 1))\n",
    "print(derivative(lambda x: x**2)(5))"
   ]
  },
  {
   "cell_type": "markdown",
   "metadata": {},
   "source": [
    "One really useful function is the fixed point function. It repeatedly applies a specific function to an initial point until the value hits an equilibrium."
   ]
  },
  {
   "cell_type": "code",
   "execution_count": 38,
   "metadata": {},
   "outputs": [
    {
     "data": {
      "text/plain": [
       "1.4142135623746899"
      ]
     },
     "execution_count": 38,
     "metadata": {},
     "output_type": "execute_result"
    }
   ],
   "source": [
    "def epsilon(e, a, b):\n",
    "    return abs(a-b)<e\n",
    "\n",
    "def fixed_point(f, guess):\n",
    "    nx = f(guess)\n",
    "    while not epsilon(0.0001, guess, nx):\n",
    "        guess = nx\n",
    "        nx = f(nx)\n",
    "    return nx\n",
    "\n",
    "def sqrt(x):\n",
    "    return fixed_point(lambda y: (y + x/y)/2, 1.0)\n",
    "\n",
    "sqrt(2)"
   ]
  },
  {
   "cell_type": "markdown",
   "metadata": {},
   "source": [
    "(Lexical) Closures"
   ]
  },
  {
   "cell_type": "code",
   "execution_count": 37,
   "metadata": {},
   "outputs": [
    {
     "name": "stdout",
     "output_type": "stream",
     "text": [
      "<function add.<locals>.add_x at 0x7f4e6ae9b620>\n",
      "3\n",
      "5\n"
     ]
    }
   ],
   "source": [
    "def add(x):\n",
    "    def add_x(y):\n",
    "        return x + y\n",
    "    return add_x\n",
    "\n",
    "print(add(1))\n",
    "print(add(1)(2))\n",
    "add_3 = add(3)\n",
    "print(add_3(2))"
   ]
  },
  {
   "cell_type": "markdown",
   "metadata": {},
   "source": [
    "Functions are objects; they can be stored anywhere objects can be stored"
   ]
  },
  {
   "cell_type": "code",
   "execution_count": 42,
   "metadata": {},
   "outputs": [
    {
     "name": "stdout",
     "output_type": "stream",
     "text": [
      "<class 'int'>\n",
      "4\n",
      "2\n",
      "1.0\n"
     ]
    }
   ],
   "source": [
    "funcs = [type, add(3), double, float]\n",
    "for f in funcs:\n",
    "    print(f(1))"
   ]
  },
  {
   "cell_type": "markdown",
   "metadata": {},
   "source": [
    "Functions can be defined pretty much anywhere"
   ]
  },
  {
   "cell_type": "code",
   "execution_count": 55,
   "metadata": {},
   "outputs": [
    {
     "name": "stdout",
     "output_type": "stream",
     "text": [
      "[0, 2, 4, 6, 8, 10, 12, 14, 16, 18]\n"
     ]
    }
   ],
   "source": [
    "fun = []\n",
    "for i in range(10):\n",
    "    def mul_i(x, i=i):\n",
    "        return i * x\n",
    "    fun.append(mul_i)\n",
    "\n",
    "print([f(2) for f in fun])"
   ]
  },
  {
   "cell_type": "markdown",
   "metadata": {},
   "source": [
    "Why \"i=i\"? This has to do with Python doing something called late binding. Late Binding means that Python looks up a function call while it is running instead of before it runs. The \"i=i\" forces Python to do early binding instead because default arguments need to be looked up early."
   ]
  },
  {
   "cell_type": "code",
   "execution_count": 56,
   "metadata": {},
   "outputs": [
    {
     "name": "stdout",
     "output_type": "stream",
     "text": [
      "[18, 18, 18, 18, 18, 18, 18, 18, 18, 18]\n"
     ]
    }
   ],
   "source": [
    "fun = []\n",
    "for i in range(10):\n",
    "    def mul_i(x):\n",
    "        return i * x\n",
    "    fun.append(mul_i)\n",
    "\n",
    "print([f(2) for f in fun])"
   ]
  },
  {
   "cell_type": "markdown",
   "metadata": {},
   "source": [
    "Python stores its runtime variables in a dictionary that you can actually access called \"locals\" and \"globals\" with the difference being that \"locals\" calls inside a certain \"scope\" will only give the local environment."
   ]
  },
  {
   "cell_type": "code",
   "execution_count": 61,
   "metadata": {},
   "outputs": [
    {
     "name": "stdout",
     "output_type": "stream",
     "text": [
      "5\n",
      "3\n",
      "{'z': 3, 'y': 2, 'x': 1}\n"
     ]
    }
   ],
   "source": [
    "print(locals().get('add')(3)(2))\n",
    "print(globals().get('add')(1)(2))\n",
    "\n",
    "def g(x,y):\n",
    "    z = 3\n",
    "    print(locals())\n",
    "    \n",
    "g(1,2)"
   ]
  }
 ],
 "metadata": {
  "kernelspec": {
   "display_name": "Python 3",
   "language": "python",
   "name": "python3"
  },
  "language_info": {
   "codemirror_mode": {
    "name": "ipython",
    "version": 3
   },
   "file_extension": ".py",
   "mimetype": "text/x-python",
   "name": "python",
   "nbconvert_exporter": "python",
   "pygments_lexer": "ipython3",
   "version": "3.6.5"
  }
 },
 "nbformat": 4,
 "nbformat_minor": 2
}
